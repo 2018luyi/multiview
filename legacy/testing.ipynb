{
 "cells": [
  {
   "cell_type": "code",
   "execution_count": 7,
   "metadata": {},
   "outputs": [],
   "source": [
    "%matplotlib inline\n",
    "import numpy as np\n",
    "import cv2\n",
    "from PIL import ImageFont, ImageDraw, Image\n",
    "import matplotlib.pyplot as plt\n",
    "import time"
   ]
  },
  {
   "cell_type": "code",
   "execution_count": 164,
   "metadata": {},
   "outputs": [],
   "source": [
    "vid = [0, 2, 4, 6]\n",
    "vid_res=[1280, 720]"
   ]
  },
  {
   "cell_type": "code",
   "execution_count": 148,
   "metadata": {},
   "outputs": [],
   "source": [
    "cap = {}\n",
    "for i in range(len(vid)):\n",
    "    cap[i] = cv2.VideoCapture(vid[i])\n",
    "\n",
    "    #self.cap[i].set(cv2.CAP_PROP_FOURCC, fourcc)\n",
    "    cap[i].set(cv2.CAP_PROP_FRAME_WIDTH, vid_res[0])\n",
    "    cap[i].set(cv2.CAP_PROP_FRAME_HEIGHT, vid_res[1])"
   ]
  },
  {
   "cell_type": "code",
   "execution_count": 165,
   "metadata": {},
   "outputs": [],
   "source": [
    "for i in range(len(vid)):\n",
    "\n",
    "    #self.cap[i].set(cv2.CAP_PROP_FOURCC, fourcc)\n",
    "    cap[i].set(cv2.CAP_PROP_FRAME_WIDTH, vid_res[0])\n",
    "    cap[i].set(cv2.CAP_PROP_FRAME_HEIGHT, vid_res[1])"
   ]
  },
  {
   "cell_type": "code",
   "execution_count": null,
   "metadata": {},
   "outputs": [],
   "source": [
    "cap = {}"
   ]
  },
  {
   "cell_type": "code",
   "execution_count": 151,
   "metadata": {},
   "outputs": [
    {
     "name": "stdout",
     "output_type": "stream",
     "text": [
      "0.35065579414367676\n"
     ]
    }
   ],
   "source": [
    "a = time.time()\n",
    "cap[0].set(cv2.CAP_PROP_FRAME_WIDTH, vid_res[0])\n",
    "cap[0].set(cv2.CAP_PROP_FRAME_HEIGHT, vid_res[1])\n",
    "cap[1].set(cv2.CAP_PROP_FRAME_WIDTH, 640)\n",
    "cap[1].set(cv2.CAP_PROP_FRAME_HEIGHT, 480)\n",
    "cap[2].set(cv2.CAP_PROP_FRAME_WIDTH, 1280)\n",
    "cap[2].set(cv2.CAP_PROP_FRAME_HEIGHT, 720)\n",
    "cap[3].set(cv2.CAP_PROP_FRAME_WIDTH, 640)\n",
    "cap[3].set(cv2.CAP_PROP_FRAME_HEIGHT, 480)\n",
    "b = time.time()\n",
    "print(b-a)"
   ]
  },
  {
   "cell_type": "code",
   "execution_count": null,
   "metadata": {},
   "outputs": [],
   "source": [
    "res2 = [640, 480]"
   ]
  },
  {
   "cell_type": "code",
   "execution_count": 101,
   "metadata": {},
   "outputs": [],
   "source": [
    "frame = {}"
   ]
  },
  {
   "cell_type": "code",
   "execution_count": 179,
   "metadata": {},
   "outputs": [
    {
     "name": "stdout",
     "output_type": "stream",
     "text": [
      "0.04589724540710449\n"
     ]
    }
   ],
   "source": [
    "# Capture frame-by-frame\n",
    "a = time.time()\n",
    "#frame = {}\n",
    "for i in range(len(vid)):\n",
    "    _, frame[i] = cap[i].read()\n",
    "\n",
    "b = time.time()\n",
    "print(b-a)"
   ]
  },
  {
   "cell_type": "code",
   "execution_count": 125,
   "metadata": {},
   "outputs": [
    {
     "data": {
      "text/plain": [
       "(480, 640, 3)"
      ]
     },
     "execution_count": 125,
     "metadata": {},
     "output_type": "execute_result"
    }
   ],
   "source": [
    "frame[0].shape"
   ]
  },
  {
   "cell_type": "code",
   "execution_count": 180,
   "metadata": {},
   "outputs": [],
   "source": [
    "# When everything done, release the capture\n",
    "for i in range(len(vid)):\n",
    "    cap[i].release()"
   ]
  }
 ],
 "metadata": {
  "kernelspec": {
   "display_name": "Python 3",
   "language": "python",
   "name": "python3"
  },
  "language_info": {
   "codemirror_mode": {
    "name": "ipython",
    "version": 3
   },
   "file_extension": ".py",
   "mimetype": "text/x-python",
   "name": "python",
   "nbconvert_exporter": "python",
   "pygments_lexer": "ipython3",
   "version": "3.5.2"
  }
 },
 "nbformat": 4,
 "nbformat_minor": 2
}
