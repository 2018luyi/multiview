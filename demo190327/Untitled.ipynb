{
 "cells": [
  {
   "cell_type": "code",
   "execution_count": 5,
   "metadata": {},
   "outputs": [],
   "source": [
    "%matplotlib inline\n",
    "import numpy as np\n",
    "import cv2\n",
    "from PIL import ImageFont, ImageDraw, Image, ImageColor\n",
    "import can\n",
    "from threading import Thread\n",
    "import time\n",
    "import matplotlib.pyplot as plt\n",
    "\n",
    "TXT_WHT = (255,255,255,255)\n",
    "TXT_BLU = (255,0,0,255)\n",
    "TXT_RED = (0,0,255,255)\n",
    "TXT_GRN = (0,255,0,255)\n",
    "TXT_WHT50 = (255,255,255,128)\n",
    "TXT_WHT25 = (255,255,255,64)\n",
    "TXT_WHT75 = (255,255,255,192)\n",
    "TXT_ORG = (0,128,255,255)"
   ]
  },
  {
   "cell_type": "code",
   "execution_count": 40,
   "metadata": {},
   "outputs": [
    {
     "data": {
      "image/png": "[encoded data removed]",
      "text/plain": [
       "<Figure size 1440x720 with 1 Axes>"
      ]
     },
     "metadata": {
      "needs_background": "light"
     },
     "output_type": "display_data"
    }
   ],
   "source": [
    "initx = 70\n",
    "inity = 5\n",
    "int1 = 30\n",
    "int2 = 120\n",
    "stPos = {}\n",
    "\n",
    "for i in range(10):\n",
    "    stPos[i] = (initx+(int1*i), inity)\n",
    "    if i >= 5:\n",
    "        stPos[i] = (initx+(int1*(i-1))+int2, inity)\n",
    "\n",
    "t1Pos = (25, 10)\n",
    "t2Pos = (600, 10)\n",
    "t3Pos = (1200, 10)\n",
    "txPos = [(25,10), (600,10), (1200,10)]\n",
    "\n",
    "text_frame = np.zeros((60, 640*2, 3), np.uint8)\n",
    "\n",
    "can_data = [\"경심\", 2, 3, 2055, 73, 16]\n",
    "fontpath = \"/usr/share/fonts/truetype/nanum/NanumBarunGothic.ttf\"\n",
    "\n",
    "# Text\n",
    "text1 = \"좌                           조향                           우\"\n",
    "engineRPM =\"{:,}\".format(can_data[3])\n",
    "text2 = \"\\t%s RPM\\t\\t리프트: %d%%\\t\\t%s\\t\\t연료: \" % (engineRPM, can_data[4], can_data[0])\n",
    "text3 = \"%d\" % can_data[5]\n",
    "\n",
    "\n",
    "\n",
    "# Text Color\n",
    "t2Col = TXT_WHT\n",
    "if (can_data[5] <= 20): t3Col = TXT_RED\n",
    "else: t3Col = TXT_WHT\n",
    "\n",
    "# Text Font\n",
    "font = ImageFont.truetype(fontpath, 30)\n",
    "font2 = ImageFont.truetype(fontpath, 40)\n",
    "# Drawing Text\n",
    "frame_pil = Image.fromarray(text_frame).convert('RGBA')\n",
    "txt_new = Image.new('RGBA', frame_pil.size, (255,255,255,0))\n",
    "d_txt = ImageDraw.Draw(txt_new)\n",
    "\n",
    "\n",
    "# Steering part\n",
    "s_cmap = [TXT_WHT25] * 11\n",
    "s_cmap[can_data[2]] = TXT_ORG\n",
    "\n",
    "d_txt.text(t1Pos, text1, font=font, fill=TXT_WHT)\n",
    "for i in range(len(s_cmap)-1):\n",
    "    d_txt.text(stPos[i], \"█\", font=font2, fill=s_cmap[i+1])\n",
    "\n",
    "\n",
    "\n",
    "d_txt.text(t2Pos, text2, font=font, fill=t2Col)\n",
    "d_txt.text(t3Pos, text3, font=font, fill=t3Col)\n",
    "frame_pil = Image.alpha_composite(frame_pil, txt_new)\n",
    "#draw = ImageDraw.Draw(frame_pil)\n",
    "#draw.text(t2Pos, text2, font=font, fill=t2Col)\n",
    "#draw.text(t3Pos, text3, font=font, fill=t3Col)\n",
    "\n",
    "show_frame = np.array(frame_pil)\n",
    "\n",
    "plt.figure(figsize=(20,10))\n",
    "plt.axis(\"off\")\n",
    "plt.imshow(cv2.cvtColor(show_frame, cv2.COLOR_BGR2RGB))\n",
    "plt.show()"
   ]
  },
  {
   "cell_type": "code",
   "execution_count": 44,
   "metadata": {},
   "outputs": [],
   "source": [
    "test = [\"%s RPM\"%\"{:,}\".format(can_data[3]), \"리프트: %d%%\"%can_data[4], \"연료:\", \"%d\"%can_data[5]]"
   ]
  },
  {
   "cell_type": "code",
   "execution_count": 46,
   "metadata": {},
   "outputs": [
    {
     "name": "stdout",
     "output_type": "stream",
     "text": [
      "2,055 RPM 리프트: 73% 연료: 16\n"
     ]
    }
   ],
   "source": [
    "print(test[0], test[1], test[2], test[3])"
   ]
  }
 ],
 "metadata": {
  "kernelspec": {
   "display_name": "Python 3",
   "language": "python",
   "name": "python3"
  },
  "language_info": {
   "codemirror_mode": {
    "name": "ipython",
    "version": 3
   },
   "file_extension": ".py",
   "mimetype": "text/x-python",
   "name": "python",
   "nbconvert_exporter": "python",
   "pygments_lexer": "ipython3",
   "version": "3.5.2"
  }
 },
 "nbformat": 4,
 "nbformat_minor": 2
}
