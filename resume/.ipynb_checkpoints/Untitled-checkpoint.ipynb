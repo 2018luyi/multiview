{
 "cells": [
  {
   "cell_type": "code",
   "execution_count": 10,
   "metadata": {},
   "outputs": [],
   "source": [
    "import cv2\n",
    "import time"
   ]
  },
  {
   "cell_type": "code",
   "execution_count": 11,
   "metadata": {},
   "outputs": [],
   "source": [
    "cap1 = cv2.VideoCapture(1)\n",
    "cap2 = cv2.VideoCapture(3)\n",
    "cap3 = cv2.VideoCapture(5)\n",
    "cap4 = cv2.VideoCapture(7)"
   ]
  },
  {
   "cell_type": "code",
   "execution_count": 12,
   "metadata": {},
   "outputs": [
    {
     "data": {
      "text/plain": [
       "False"
      ]
     },
     "execution_count": 12,
     "metadata": {},
     "output_type": "execute_result"
    }
   ],
   "source": [
    "cap_res = [1920, 1080]\n",
    "cap1.set(cv2.CAP_PROP_FRAME_WIDTH, cap_res[0])\n",
    "cap1.set(cv2.CAP_PROP_FRAME_HEIGHT, cap_res[1])\n"
   ]
  },
  {
   "cell_type": "code",
   "execution_count": 13,
   "metadata": {},
   "outputs": [
    {
     "data": {
      "text/plain": [
       "False"
      ]
     },
     "execution_count": 13,
     "metadata": {},
     "output_type": "execute_result"
    }
   ],
   "source": [
    "cap2.set(cv2.CAP_PROP_FRAME_WIDTH, cap_res[0])\n",
    "cap2.set(cv2.CAP_PROP_FRAME_HEIGHT, cap_res[1])\n",
    "cap3.set(cv2.CAP_PROP_FRAME_WIDTH, cap_res[0])\n",
    "cap3.set(cv2.CAP_PROP_FRAME_HEIGHT, cap_res[1])\n",
    "cap4.set(cv2.CAP_PROP_FRAME_WIDTH, cap_res[0])\n",
    "cap4.set(cv2.CAP_PROP_FRAME_HEIGHT, cap_res[1])"
   ]
  },
  {
   "cell_type": "code",
   "execution_count": 14,
   "metadata": {},
   "outputs": [],
   "source": [
    "_, img1 = cap1.read()"
   ]
  },
  {
   "cell_type": "code",
   "execution_count": 8,
   "metadata": {},
   "outputs": [
    {
     "name": "stdout",
     "output_type": "stream",
     "text": [
      "0.08343863487243652\n"
     ]
    }
   ],
   "source": [
    "a = time.time()\n",
    "_, img1 = cap1.read()\n",
    "_, img2 = cap2.read()\n",
    "_, img3 = cap3.read()\n",
    "_, img4 = cap4.read()\n",
    "b = time.time()\n",
    "print(b-a)\n",
    "#print(img1.shape, img2.shape)"
   ]
  },
  {
   "cell_type": "code",
   "execution_count": 16,
   "metadata": {},
   "outputs": [],
   "source": [
    "cap1.release()\n",
    "cap2.release()\n",
    "cap3.release()\n",
    "cap4.release()"
   ]
  }
 ],
 "metadata": {
  "kernelspec": {
   "display_name": "Python 3",
   "language": "python",
   "name": "python3"
  },
  "language_info": {
   "codemirror_mode": {
    "name": "ipython",
    "version": 3
   },
   "file_extension": ".py",
   "mimetype": "text/x-python",
   "name": "python",
   "nbconvert_exporter": "python",
   "pygments_lexer": "ipython3",
   "version": "3.5.2"
  }
 },
 "nbformat": 4,
 "nbformat_minor": 2
}
