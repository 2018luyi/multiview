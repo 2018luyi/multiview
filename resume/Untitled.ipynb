{
 "cells": [
  {
   "cell_type": "code",
   "execution_count": 1,
   "metadata": {},
   "outputs": [],
   "source": [
    "import cv2\n",
    "import time\n",
    "import numpy as np"
   ]
  },
  {
   "cell_type": "code",
   "execution_count": 2,
   "metadata": {},
   "outputs": [],
   "source": [
    "cap1 = cv2.VideoCapture(0)\n",
    "cap2 = cv2.VideoCapture(2)\n",
    "cap3 = cv2.VideoCapture(4)\n",
    "cap4 = cv2.VideoCapture(6)"
   ]
  },
  {
   "cell_type": "code",
   "execution_count": 3,
   "metadata": {},
   "outputs": [
    {
     "data": {
      "text/plain": [
       "False"
      ]
     },
     "execution_count": 3,
     "metadata": {},
     "output_type": "execute_result"
    }
   ],
   "source": [
    "cap_res = [960, 540]\n",
    "cap1.set(cv2.CAP_PROP_FRAME_WIDTH, cap_res[0])\n",
    "cap1.set(cv2.CAP_PROP_FRAME_HEIGHT, cap_res[1])\n"
   ]
  },
  {
   "cell_type": "code",
   "execution_count": 4,
   "metadata": {},
   "outputs": [
    {
     "data": {
      "text/plain": [
       "False"
      ]
     },
     "execution_count": 4,
     "metadata": {},
     "output_type": "execute_result"
    }
   ],
   "source": [
    "cap2.set(cv2.CAP_PROP_FRAME_WIDTH, cap_res[0])\n",
    "cap2.set(cv2.CAP_PROP_FRAME_HEIGHT, cap_res[1])\n",
    "cap3.set(cv2.CAP_PROP_FRAME_WIDTH, cap_res[0])\n",
    "cap3.set(cv2.CAP_PROP_FRAME_HEIGHT, cap_res[1])\n",
    "cap4.set(cv2.CAP_PROP_FRAME_WIDTH, cap_res[0])\n",
    "cap4.set(cv2.CAP_PROP_FRAME_HEIGHT, cap_res[1])"
   ]
  },
  {
   "cell_type": "code",
   "execution_count": null,
   "metadata": {},
   "outputs": [],
   "source": [
    "_, img1 = cap1.read()"
   ]
  },
  {
   "cell_type": "code",
   "execution_count": 5,
   "metadata": {},
   "outputs": [],
   "source": [
    "fpss = np.zeros(100)"
   ]
  },
  {
   "cell_type": "code",
   "execution_count": 6,
   "metadata": {},
   "outputs": [],
   "source": [
    "for i in range(len(fpss)):\n",
    "    a = time.time()\n",
    "    _, img1 = cap1.read()\n",
    "    _, img2 = cap2.read()\n",
    "    _, img3 = cap3.read()\n",
    "    _, img4 = cap4.read()\n",
    "    b = time.time()\n",
    "    fpss[i] = b-a\n",
    "\n",
    "#print(img1.shape, img2.shape)"
   ]
  },
  {
   "cell_type": "code",
   "execution_count": 7,
   "metadata": {},
   "outputs": [
    {
     "name": "stdout",
     "output_type": "stream",
     "text": [
      "15.60813221254233\n"
     ]
    }
   ],
   "source": [
    "print(1.0/np.mean(fpss[1:]))"
   ]
  },
  {
   "cell_type": "code",
   "execution_count": null,
   "metadata": {},
   "outputs": [],
   "source": [
    "cap1.release()\n",
    "cap2.release()\n",
    "cap3.release()\n",
    "cap4.release()"
   ]
  }
 ],
 "metadata": {
  "kernelspec": {
   "display_name": "Python 3",
   "language": "python",
   "name": "python3"
  },
  "language_info": {
   "codemirror_mode": {
    "name": "ipython",
    "version": 3
   },
   "file_extension": ".py",
   "mimetype": "text/x-python",
   "name": "python",
   "nbconvert_exporter": "python",
   "pygments_lexer": "ipython3",
   "version": "3.5.2"
  }
 },
 "nbformat": 4,
 "nbformat_minor": 2
}
