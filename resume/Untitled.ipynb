{
 "cells": [
  {
   "cell_type": "code",
   "execution_count": 1,
   "metadata": {},
   "outputs": [],
   "source": [
    "import cv2\n",
    "import time"
   ]
  },
  {
   "cell_type": "code",
   "execution_count": 2,
   "metadata": {},
   "outputs": [],
   "source": [
    "cap1 = cv2.VideoCapture(0)\n",
    "cap2 = cv2.VideoCapture(2)"
   ]
  },
  {
   "cell_type": "code",
   "execution_count": 30,
   "metadata": {},
   "outputs": [
    {
     "data": {
      "text/plain": [
       "False"
      ]
     },
     "execution_count": 30,
     "metadata": {},
     "output_type": "execute_result"
    }
   ],
   "source": [
    "cap_res = [1920, 1080]\n",
    "cap1.set(cv2.CAP_PROP_FRAME_WIDTH, cap_res[0])\n",
    "cap1.set(cv2.CAP_PROP_FRAME_HEIGHT, cap_res[1])\n"
   ]
  },
  {
   "cell_type": "code",
   "execution_count": 31,
   "metadata": {},
   "outputs": [
    {
     "data": {
      "text/plain": [
       "False"
      ]
     },
     "execution_count": 31,
     "metadata": {},
     "output_type": "execute_result"
    }
   ],
   "source": [
    "cap2.set(cv2.CAP_PROP_FRAME_WIDTH, cap_res[0])\n",
    "cap2.set(cv2.CAP_PROP_FRAME_HEIGHT, cap_res[1])"
   ]
  },
  {
   "cell_type": "code",
   "execution_count": 155,
   "metadata": {},
   "outputs": [
    {
     "name": "stdout",
     "output_type": "stream",
     "text": [
      "0.05148816108703613\n",
      "(1080, 1920, 3) (1080, 1920, 3)\n"
     ]
    }
   ],
   "source": [
    "a = time.time()\n",
    "_, img1 = cap1.read()\n",
    "_, img2 = cap2.read()\n",
    "b = time.time()\n",
    "print(b-a)\n",
    "print(img1.shape, img2.shape)"
   ]
  },
  {
   "cell_type": "code",
   "execution_count": 156,
   "metadata": {},
   "outputs": [],
   "source": [
    "cap1.release()\n",
    "cap2.release()"
   ]
  }
 ],
 "metadata": {
  "kernelspec": {
   "display_name": "Python 3",
   "language": "python",
   "name": "python3"
  },
  "language_info": {
   "codemirror_mode": {
    "name": "ipython",
    "version": 3
   },
   "file_extension": ".py",
   "mimetype": "text/x-python",
   "name": "python",
   "nbconvert_exporter": "python",
   "pygments_lexer": "ipython3",
   "version": "3.5.2"
  }
 },
 "nbformat": 4,
 "nbformat_minor": 2
}
